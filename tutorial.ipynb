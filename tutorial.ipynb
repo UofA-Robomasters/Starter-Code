{
 "cells": [
  {
   "cell_type": "markdown",
   "metadata": {},
   "source": [
    "Author: @Alex Qian(wenzhang@ualberta.ca)\n",
    "# Welcome to your interactive tutorial of Jupyter notebook, Numpy and OpenCV"
   ]
  },
  {
   "cell_type": "markdown",
   "metadata": {},
   "source": [
    "## Jupyter notebook\n",
    "* launch\n",
    "* run a cell\n",
    "* code <---> markdown\n",
    "* toolbar\n",
    "* command palette\n",
    "* keyboard shortcuts\n",
    "* (magic keywords)"
   ]
  },
  {
   "cell_type": "markdown",
   "metadata": {},
   "source": [
    "### launch\n",
    "`jupyter notebook` or `jupyter notebook tutorial.ipynb` in the terminal.\n",
    "\n",
    "Potential error for the dependency. Install all the packagees.\n",
    "\n",
    "If you are using my Starter-Kit, use `source activate robo` on Mac OS/ Linux or `activate robo` on Windows\n",
    "\n",
    "The server runs at http://localhost:8888 by default."
   ]
  },
  {
   "cell_type": "markdown",
   "metadata": {},
   "source": [
    "### run a cell\n",
    "Add code in a cell and use \"shift + enter\" to run it."
   ]
  },
  {
   "cell_type": "code",
   "execution_count": 1,
   "metadata": {},
   "outputs": [
    {
     "name": "stdout",
     "output_type": "stream",
     "text": [
      "Hello World!\n"
     ]
    }
   ],
   "source": [
    "print(\"Hello World!\")"
   ]
  },
  {
   "cell_type": "markdown",
   "metadata": {},
   "source": [
    "### cell types\n",
    "Only code cells and markdown cells will be covered in this tutorial.\n",
    "\n",
    "You just made a code cell. Let's create a markdown cell."
   ]
  },
  {
   "cell_type": "code",
   "execution_count": null,
   "metadata": {
    "collapsed": true
   },
   "outputs": [],
   "source": []
  },
  {
   "cell_type": "code",
   "execution_count": null,
   "metadata": {
    "collapsed": true
   },
   "outputs": [],
   "source": []
  },
  {
   "cell_type": "code",
   "execution_count": null,
   "metadata": {
    "collapsed": true
   },
   "outputs": [],
   "source": []
  },
  {
   "cell_type": "markdown",
   "metadata": {},
   "source": [
    "There can be \n",
    "# Header 1\n",
    "## Header 2\n",
    "### Header 3\n",
    " [Author's Github profile](https://github.com/AlexQian97)\n",
    " \n",
    " _italics_ or *italics*\n",
    " \n",
    " __bold__ or **bold**\n",
    "$$\n",
    "y = \\frac{a}{b+c}\n",
    "$$\n",
    "I am not good at LaTex, I am not goint to continue on the math expression. Anyway, you can always find resources on Google."
   ]
  },
  {
   "cell_type": "markdown",
   "metadata": {},
   "source": [
    "### toolbar\n",
    "Just go through all icons\n",
    "* The anachronistic symbol for \"save,\" the floppy disk. Saves the notebook!\n",
    "* The + button creates a new cell\n",
    "* Then, buttons to cut, copy, and paste cells.\n",
    "* Run, stop, restart the kernel\n",
    "* Cell type: code, Markdown, raw text, and header\n",
    "* Command palette (see next)\n",
    "* Cell toolbar, gives various options for cells such as using them as slides\n",
    "\n",
    "Three cells below are intentionally left empty for you to test these functions."
   ]
  },
  {
   "cell_type": "code",
   "execution_count": null,
   "metadata": {
    "collapsed": true
   },
   "outputs": [],
   "source": []
  },
  {
   "cell_type": "code",
   "execution_count": null,
   "metadata": {
    "collapsed": true
   },
   "outputs": [],
   "source": []
  },
  {
   "cell_type": "code",
   "execution_count": null,
   "metadata": {
    "collapsed": true
   },
   "outputs": [],
   "source": []
  },
  {
   "cell_type": "markdown",
   "metadata": {},
   "source": [
    "### command palette\n",
    "The little keyboard is the command palette. This will bring up a panel with a search bar where you can search for various commands. This is really helpful for speeding up your workflow as you don't need to search around in the menus with your mouse. Just open the command palette and type in what you want to do. For instance, if you want to merge two cells:"
   ]
  },
  {
   "cell_type": "code",
   "execution_count": null,
   "metadata": {
    "collapsed": true
   },
   "outputs": [],
   "source": []
  },
  {
   "cell_type": "code",
   "execution_count": null,
   "metadata": {
    "collapsed": true
   },
   "outputs": [],
   "source": []
  },
  {
   "cell_type": "markdown",
   "metadata": {},
   "source": [
    "Just one more thing, I wish you could add a html file of your notebook so that people do not have to open your notebook with command line to just have a look.\n",
    "\n",
    "My tutorial is just a crush course, if you want to learn more about Jupyter notebook. This is the offical website of [Jupyter](http://jupyter.org). You can find documents and tutorial about Jupyter on it."
   ]
  },
  {
   "cell_type": "code",
   "execution_count": null,
   "metadata": {
    "collapsed": true
   },
   "outputs": [],
   "source": []
  }
 ],
 "metadata": {
  "kernelspec": {
   "display_name": "Python 2",
   "language": "python",
   "name": "python2"
  },
  "language_info": {
   "codemirror_mode": {
    "name": "ipython",
    "version": 2
   },
   "file_extension": ".py",
   "mimetype": "text/x-python",
   "name": "python",
   "nbconvert_exporter": "python",
   "pygments_lexer": "ipython2",
   "version": "2.7.10"
  },
  "widgets": {
   "state": {},
   "version": "1.1.2"
  }
 },
 "nbformat": 4,
 "nbformat_minor": 2
}
